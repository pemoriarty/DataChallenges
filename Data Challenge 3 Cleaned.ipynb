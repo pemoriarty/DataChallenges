{
 "cells": [
  {
   "cell_type": "markdown",
   "metadata": {},
   "source": [
    "### Goal: Evaluate whether a pricing test running on the site has been successful.\n",
    "\n",
    "- Should the company sell its software for \\$39 or \\$59?\n",
    "- The VP of Product is interested in having a holistic view into user behavior, especially focusing on actionable insights that might increase conversion rate. What are your main findings looking at the data?\n",
    "- [Bonus] The VP of Product feels that the test has been running for too long and he should have been able to get statistically significant results in a shorter time. Do you agree with her intuition? After how many days would you have stopped the test? Why?\n",
    "\n",
    "### Summary\n",
    "\n",
    "The company should sell its software for \\$59. When the price is increased to \\$59, the total revenue earned per viewer is higher with the higher price; \\$0.99/viewer compared to \\$0.78/viewer (p < 0.001). Of course, the conversion rate does decrease with the higher rate, as would expected. It drops to 0.015 from 0.019 However, the increase in price per sale at the lower conversion rate makes up for the fewer units sold, leading to higher overall revenue. \n",
    "\n",
    "Referrals from a friend have the highest conversion rate. To increase conversion rates, promoting referrals may have the greatest effect. \n",
    "\n",
    "I agree with the VP that we could have stopped the test sooner. The results of a power analysis indicate we need far less data than we collected. Given the difference of 0.15 in the sample means, even if we were highly conservative and used a significance level of 0.001 and power of 0.99, we needed to collect 3,250 samples in the control group and 2/3 that number in the test group."
   ]
  }
 ],
 "metadata": {
  "kernelspec": {
   "display_name": "Python 3",
   "language": "python",
   "name": "python3"
  },
  "language_info": {
   "codemirror_mode": {
    "name": "ipython",
    "version": 3
   },
   "file_extension": ".py",
   "mimetype": "text/x-python",
   "name": "python",
   "nbconvert_exporter": "python",
   "pygments_lexer": "ipython3",
   "version": "3.6.4"
  }
 },
 "nbformat": 4,
 "nbformat_minor": 2
}
