{
 "cells": [
  {
   "cell_type": "markdown",
   "metadata": {},
   "source": [
    "### Goal: Evaluate whether a pricing test running on the site has been successful.\n",
    "As always, you should focus on user segmentation and provide insights about segments\n",
    "who behave differently as well as any other insights you might find."
   ]
  },
  {
   "cell_type": "markdown",
   "metadata": {},
   "source": [
    "- Should the company sell its software for \\$39 or \\$59?\n",
    "- The VP of Product is interested in having a holistic view into user behavior, especially focusing on actionable insights that might increase conversion rate. What are your main findings looking at the data?\n",
    "- [Bonus] The VP of Product feels that the test has been running for too long and he should have been able to get statistically significant results in a shorter time. Do you agree with her intuition? After how many days would you have stopped the test? Why?"
   ]
  },
  {
   "cell_type": "markdown",
   "metadata": {},
   "source": [
    "### Summary\n",
    "\n",
    "The company should sell its software for \\$59. When the price is increased to \\$59, the total revenue earned per viewer is higher with the higher price; \\$0.99/viewer compared to \\$0.78/viewer (p < 0.001). Of course, the conversion rate does decrease with the higher rate, as would expected. It drops to 0.015 from 0.019 However, the increase in price per sale at the lower conversion rate makes up for the fewer units sold, leading to higher overall revenue. \n",
    "\n",
    "Referrals from a friend have the highest conversion rate. To increase conversion rates, promoting referrals may have the greatest effect. \n",
    "\n",
    "I agree with the VP. The results of a power analysis indicate we need far less data than we collected. Given the difference of 0.15 in the sample means, if we were highly conservative and used a significance level of 0.001 and power of 0.99, we needed to collect 3,250 samples in the control group and 2/3 that number in the test group."
   ]
  },
  {
   "cell_type": "markdown",
   "metadata": {},
   "source": [
    "Plan of Attack:\n",
    "- Clean data\n",
    "    - Check 0/1 matches 39/59\n",
    "    - Check for imbalanced data\n",
    "    - A/A test: are the groups random re: source, device, access method\n",
    "    - effects of time? need to worry about seasonal effect? => No, if split data truly randomly\n",
    "- Check assumptions of t-test\n",
    "- Determine metric for 'did changing price result in an increase in revenue?'"
   ]
  },
  {
   "cell_type": "markdown",
   "metadata": {},
   "source": [
    "My biggest aim is to evaluate whether increasing the price of software increased revenue. To do this, I use:\n",
    "\n",
    "Ho: Increasing the price did not increase revenue.\n",
    "\n",
    "Ha: Increasing price to \\$59 did increase revenue"
   ]
  },
  {
   "cell_type": "code",
   "execution_count": 172,
   "metadata": {},
   "outputs": [],
   "source": [
    "import matplotlib.pyplot as plt\n",
    "import pandas as pd\n",
    "import  numpy as np\n",
    "#import seaborn as sns\n",
    "import statsmodels.api as sm\n",
    "from datetime import datetime\n",
    "from scipy.stats import mannwhitneyu, ttest_ind\n",
    "%matplotlib inline"
   ]
  },
  {
   "cell_type": "code",
   "execution_count": 9,
   "metadata": {},
   "outputs": [],
   "source": [
    "user_data_file = 'data/Pricing_Test_data/test_results.csv'\n",
    "test_data_file = 'data/Pricing_Test_data/user_table.csv'"
   ]
  },
  {
   "cell_type": "code",
   "execution_count": 10,
   "metadata": {},
   "outputs": [],
   "source": [
    "user_data = pd.read_csv(user_data_file)\n",
    "test_data = pd.read_csv(test_data_file)"
   ]
  },
  {
   "cell_type": "code",
   "execution_count": 11,
   "metadata": {},
   "outputs": [
    {
     "data": {
      "text/html": [
       "<div>\n",
       "<style scoped>\n",
       "    .dataframe tbody tr th:only-of-type {\n",
       "        vertical-align: middle;\n",
       "    }\n",
       "\n",
       "    .dataframe tbody tr th {\n",
       "        vertical-align: top;\n",
       "    }\n",
       "\n",
       "    .dataframe thead th {\n",
       "        text-align: right;\n",
       "    }\n",
       "</style>\n",
       "<table border=\"1\" class=\"dataframe\">\n",
       "  <thead>\n",
       "    <tr style=\"text-align: right;\">\n",
       "      <th></th>\n",
       "      <th>user_id</th>\n",
       "      <th>timestamp</th>\n",
       "      <th>source</th>\n",
       "      <th>device</th>\n",
       "      <th>operative_system</th>\n",
       "      <th>test</th>\n",
       "      <th>price</th>\n",
       "      <th>converted</th>\n",
       "    </tr>\n",
       "  </thead>\n",
       "  <tbody>\n",
       "    <tr>\n",
       "      <th>0</th>\n",
       "      <td>604839</td>\n",
       "      <td>2015-05-08 03:38:34</td>\n",
       "      <td>ads_facebook</td>\n",
       "      <td>mobile</td>\n",
       "      <td>iOS</td>\n",
       "      <td>0</td>\n",
       "      <td>39</td>\n",
       "      <td>0</td>\n",
       "    </tr>\n",
       "    <tr>\n",
       "      <th>1</th>\n",
       "      <td>624057</td>\n",
       "      <td>2015-05-10 21:08:46</td>\n",
       "      <td>seo-google</td>\n",
       "      <td>mobile</td>\n",
       "      <td>android</td>\n",
       "      <td>0</td>\n",
       "      <td>39</td>\n",
       "      <td>0</td>\n",
       "    </tr>\n",
       "    <tr>\n",
       "      <th>2</th>\n",
       "      <td>317970</td>\n",
       "      <td>2015-04-04 15:01:23</td>\n",
       "      <td>ads-bing</td>\n",
       "      <td>mobile</td>\n",
       "      <td>android</td>\n",
       "      <td>0</td>\n",
       "      <td>39</td>\n",
       "      <td>0</td>\n",
       "    </tr>\n",
       "    <tr>\n",
       "      <th>3</th>\n",
       "      <td>685636</td>\n",
       "      <td>2015-05-07 07:26:01</td>\n",
       "      <td>direct_traffic</td>\n",
       "      <td>mobile</td>\n",
       "      <td>iOS</td>\n",
       "      <td>1</td>\n",
       "      <td>59</td>\n",
       "      <td>0</td>\n",
       "    </tr>\n",
       "    <tr>\n",
       "      <th>4</th>\n",
       "      <td>820854</td>\n",
       "      <td>2015-05-24 11:04:40</td>\n",
       "      <td>ads_facebook</td>\n",
       "      <td>web</td>\n",
       "      <td>mac</td>\n",
       "      <td>0</td>\n",
       "      <td>39</td>\n",
       "      <td>0</td>\n",
       "    </tr>\n",
       "  </tbody>\n",
       "</table>\n",
       "</div>"
      ],
      "text/plain": [
       "   user_id            timestamp          source  device operative_system  \\\n",
       "0   604839  2015-05-08 03:38:34    ads_facebook  mobile              iOS   \n",
       "1   624057  2015-05-10 21:08:46      seo-google  mobile          android   \n",
       "2   317970  2015-04-04 15:01:23        ads-bing  mobile          android   \n",
       "3   685636  2015-05-07 07:26:01  direct_traffic  mobile              iOS   \n",
       "4   820854  2015-05-24 11:04:40    ads_facebook     web              mac   \n",
       "\n",
       "   test  price  converted  \n",
       "0     0     39          0  \n",
       "1     0     39          0  \n",
       "2     0     39          0  \n",
       "3     1     59          0  \n",
       "4     0     39          0  "
      ]
     },
     "execution_count": 11,
     "metadata": {},
     "output_type": "execute_result"
    }
   ],
   "source": [
    "user_data.head()"
   ]
  },
  {
   "cell_type": "code",
   "execution_count": 12,
   "metadata": {},
   "outputs": [
    {
     "data": {
      "text/html": [
       "<div>\n",
       "<style scoped>\n",
       "    .dataframe tbody tr th:only-of-type {\n",
       "        vertical-align: middle;\n",
       "    }\n",
       "\n",
       "    .dataframe tbody tr th {\n",
       "        vertical-align: top;\n",
       "    }\n",
       "\n",
       "    .dataframe thead th {\n",
       "        text-align: right;\n",
       "    }\n",
       "</style>\n",
       "<table border=\"1\" class=\"dataframe\">\n",
       "  <thead>\n",
       "    <tr style=\"text-align: right;\">\n",
       "      <th></th>\n",
       "      <th>user_id</th>\n",
       "      <th>city</th>\n",
       "      <th>country</th>\n",
       "      <th>lat</th>\n",
       "      <th>long</th>\n",
       "    </tr>\n",
       "  </thead>\n",
       "  <tbody>\n",
       "    <tr>\n",
       "      <th>0</th>\n",
       "      <td>510335</td>\n",
       "      <td>Peabody</td>\n",
       "      <td>USA</td>\n",
       "      <td>42.53</td>\n",
       "      <td>-70.97</td>\n",
       "    </tr>\n",
       "    <tr>\n",
       "      <th>1</th>\n",
       "      <td>89568</td>\n",
       "      <td>Reno</td>\n",
       "      <td>USA</td>\n",
       "      <td>39.54</td>\n",
       "      <td>-119.82</td>\n",
       "    </tr>\n",
       "    <tr>\n",
       "      <th>2</th>\n",
       "      <td>434134</td>\n",
       "      <td>Rialto</td>\n",
       "      <td>USA</td>\n",
       "      <td>34.11</td>\n",
       "      <td>-117.39</td>\n",
       "    </tr>\n",
       "    <tr>\n",
       "      <th>3</th>\n",
       "      <td>289769</td>\n",
       "      <td>Carson City</td>\n",
       "      <td>USA</td>\n",
       "      <td>39.15</td>\n",
       "      <td>-119.74</td>\n",
       "    </tr>\n",
       "    <tr>\n",
       "      <th>4</th>\n",
       "      <td>939586</td>\n",
       "      <td>Chicago</td>\n",
       "      <td>USA</td>\n",
       "      <td>41.84</td>\n",
       "      <td>-87.68</td>\n",
       "    </tr>\n",
       "  </tbody>\n",
       "</table>\n",
       "</div>"
      ],
      "text/plain": [
       "   user_id         city country    lat    long\n",
       "0   510335      Peabody     USA  42.53  -70.97\n",
       "1    89568         Reno     USA  39.54 -119.82\n",
       "2   434134       Rialto     USA  34.11 -117.39\n",
       "3   289769  Carson City     USA  39.15 -119.74\n",
       "4   939586      Chicago     USA  41.84  -87.68"
      ]
     },
     "execution_count": 12,
     "metadata": {},
     "output_type": "execute_result"
    }
   ],
   "source": [
    "test_data.head()"
   ]
  },
  {
   "cell_type": "markdown",
   "metadata": {},
   "source": [
    "Clean data, checking for:\n",
    "- Check 0/1 matches 39/59\n",
    "- Check for imbalanced data\n",
    "- A/A test: are the groups random re: source, device, access method\n",
    "- effects of time? need to worry about seasonal effect? => No, if split data truly randomly"
   ]
  },
  {
   "cell_type": "code",
   "execution_count": 13,
   "metadata": {},
   "outputs": [
    {
     "data": {
      "text/plain": [
       "(316800, 8)"
      ]
     },
     "execution_count": 13,
     "metadata": {},
     "output_type": "execute_result"
    }
   ],
   "source": [
    "user_data.shape"
   ]
  },
  {
   "cell_type": "code",
   "execution_count": null,
   "metadata": {},
   "outputs": [],
   "source": []
  },
  {
   "cell_type": "code",
   "execution_count": 139,
   "metadata": {},
   "outputs": [
    {
     "data": {
      "text/plain": [
       "Int64Index([  1457,   1912,   2337,   3147,   4277,  11792,  11975,  13838,\n",
       "             16633,  18009,\n",
       "            ...\n",
       "            304776, 307648, 308539, 311541, 312755, 313723, 314391, 314402,\n",
       "            314696, 315864],\n",
       "           dtype='int64', length=155)"
      ]
     },
     "execution_count": 139,
     "metadata": {},
     "output_type": "execute_result"
    }
   ],
   "source": [
    "bad_data = user_data[(user_data.test==1) & (user_data.price ==39)].index\n",
    "bad_data"
   ]
  },
  {
   "cell_type": "code",
   "execution_count": 140,
   "metadata": {},
   "outputs": [],
   "source": [
    "clean_user = user_data.drop(bad_data)"
   ]
  },
  {
   "cell_type": "code",
   "execution_count": 141,
   "metadata": {},
   "outputs": [
    {
     "data": {
      "text/plain": [
       "Int64Index([  8238,   8369,  11555,  12848,  14630,  15020,  15724,  17252,\n",
       "             20223,  20623,\n",
       "            ...\n",
       "            305508, 307444, 308723, 310426, 312287, 312725, 313735, 314275,\n",
       "            315529, 316663],\n",
       "           dtype='int64', length=210)"
      ]
     },
     "execution_count": 141,
     "metadata": {},
     "output_type": "execute_result"
    }
   ],
   "source": [
    "bad_data2 = clean_user[(clean_user.test==0) & (clean_user.price ==59)].index\n",
    "bad_data2"
   ]
  },
  {
   "cell_type": "code",
   "execution_count": 142,
   "metadata": {},
   "outputs": [],
   "source": [
    "clean_user = clean_user.drop(bad_data2)"
   ]
  },
  {
   "cell_type": "code",
   "execution_count": 143,
   "metadata": {},
   "outputs": [
    {
     "data": {
      "text/plain": [
       "0.36000442428934853"
      ]
     },
     "execution_count": 143,
     "metadata": {},
     "output_type": "execute_result"
    }
   ],
   "source": [
    "#Check for imbalanced data\n",
    "sum(clean_user['test']==1)/len(clean_user['test'])"
   ]
  },
  {
   "cell_type": "markdown",
   "metadata": {},
   "source": [
    "That's enough balanced to not cause an issue in a t-test, or most basic statistical analyses"
   ]
  },
  {
   "cell_type": "code",
   "execution_count": 58,
   "metadata": {},
   "outputs": [
    {
     "data": {
      "text/plain": [
       "source\n",
       "ads-bing           0.565483\n",
       "ads-google         0.568027\n",
       "ads-yahoo          0.573358\n",
       "ads_facebook       0.565857\n",
       "ads_other          0.548920\n",
       "direct_traffic     0.556933\n",
       "friend_referral    0.575947\n",
       "seo-bing           0.613243\n",
       "seo-google         0.534199\n",
       "seo-other          0.572376\n",
       "seo-yahoo          0.570478\n",
       "seo_facebook       0.573657\n",
       "dtype: float64"
      ]
     },
     "execution_count": 58,
     "metadata": {},
     "output_type": "execute_result"
    }
   ],
   "source": [
    "#Check if truly split randomly- across devices, access source\n",
    "source_tab = pd.crosstab(index=clean_user['test'],columns=clean_user['source'])\n",
    "source_tab.iloc[1]/source_tab.iloc[0]"
   ]
  },
  {
   "cell_type": "code",
   "execution_count": 59,
   "metadata": {},
   "outputs": [
    {
     "data": {
      "text/plain": [
       "device\n",
       "mobile    0.547467\n",
       "web       0.584555\n",
       "dtype: float64"
      ]
     },
     "execution_count": 59,
     "metadata": {},
     "output_type": "execute_result"
    }
   ],
   "source": [
    "device_tab = pd.crosstab(index=clean_user['test'],columns=clean_user['device'])\n",
    "device_tab.iloc[1]/device_tab.iloc[0]"
   ]
  },
  {
   "cell_type": "markdown",
   "metadata": {},
   "source": [
    "Data seems relatively  balanced- proportions of each source and device are comparable to proportions of how many got the test"
   ]
  },
  {
   "cell_type": "markdown",
   "metadata": {},
   "source": [
    "Need to choose a metric: \n",
    "- total revenue\n",
    "    - total revenue = #sold * cost/unit\n",
    "- conversion rate\n",
    "    - proportion who bought"
   ]
  },
  {
   "cell_type": "code",
   "execution_count": 151,
   "metadata": {},
   "outputs": [
    {
     "name": "stdout",
     "output_type": "stream",
     "text": [
      "<class 'str'>\n",
      "2015-05-08 03:38:34\n",
      "5\n"
     ]
    }
   ],
   "source": [
    "#Check if split cross time evenly\n",
    "print(type(clean_user['timestamp'][0]))\n",
    "\n",
    "datetime_object = datetime.strptime(clean_user['timestamp'][0], '%Y-%m-%d %H:%M:%S')\n",
    "print(datetime_object)\n",
    "print(datetime_object.month)\n",
    "\n",
    "clean_user['timestamp'] = pd.to_datetime(clean_user['timestamp'], format='%Y-%m-%d %H:%M:%S', errors='coerce')"
   ]
  },
  {
   "cell_type": "code",
   "execution_count": 157,
   "metadata": {},
   "outputs": [
    {
     "name": "stdout",
     "output_type": "stream",
     "text": [
      "[2015.   nan]\n",
      "[ 5.  4.  3. nan]\n"
     ]
    }
   ],
   "source": [
    "print(clean_user['timestamp'].dt.year.unique())\n",
    "print(clean_user['timestamp'].dt.month.unique())"
   ]
  },
  {
   "cell_type": "code",
   "execution_count": 160,
   "metadata": {},
   "outputs": [
    {
     "data": {
      "text/plain": [
       "timestamp\n",
       "3.0    0.565773\n",
       "4.0    0.556058\n",
       "5.0    0.567263\n",
       "dtype: float64"
      ]
     },
     "execution_count": 160,
     "metadata": {},
     "output_type": "execute_result"
    }
   ],
   "source": [
    "month_test = pd.crosstab(index=clean_user['test'],columns=clean_user['timestamp'].dt.month)\n",
    "month_test.iloc[1]/month_test.iloc[0]"
   ]
  },
  {
   "cell_type": "code",
   "execution_count": 60,
   "metadata": {},
   "outputs": [],
   "source": [
    "#Calculate total revenue for each group"
   ]
  },
  {
   "cell_type": "code",
   "execution_count": 66,
   "metadata": {},
   "outputs": [
    {
     "data": {
      "text/plain": [
       "0.7760829955016122"
      ]
     },
     "execution_count": 66,
     "metadata": {},
     "output_type": "execute_result"
    }
   ],
   "source": [
    "39*len(clean_user[(clean_user['test']==0) & (clean_user['converted']==1)])/len(clean_user[clean_user['test']==0])"
   ]
  },
  {
   "cell_type": "code",
   "execution_count": 67,
   "metadata": {},
   "outputs": [
    {
     "data": {
      "text/plain": [
       "0.917747853719342"
      ]
     },
     "execution_count": 67,
     "metadata": {},
     "output_type": "execute_result"
    }
   ],
   "source": [
    "59*len(clean_user[(clean_user['test']==1) & (clean_user['converted']==1)])/len(clean_user[clean_user['test']==1])"
   ]
  },
  {
   "cell_type": "markdown",
   "metadata": {},
   "source": [
    "This is the unit price * the number of units purchased/max number could be purchased. This represents the revenue earned per user who viewed the site. Overall, revenue per viewer is higher for viewers who saw the price of $59. \n",
    "\n",
    "Run a t-test, where the response is the revenue fromm each viewer"
   ]
  },
  {
   "cell_type": "code",
   "execution_count": null,
   "metadata": {},
   "outputs": [],
   "source": []
  },
  {
   "cell_type": "code",
   "execution_count": null,
   "metadata": {},
   "outputs": [],
   "source": [
    "#run a t test- two columns are the revenue generated from that viewer\n",
    "control_data = clean_user[clean_user['test']==0]['converted']*clean_user[clean_user['test']==0]['price']\n",
    "test_data = clean_user[clean_user['test']==1]['converted']*clean_user[clean_user['test']==1]['price']\n",
    "ttest_ind(control_data, test_data)\n",
    "\n",
    "print(control_data.mean())\n",
    "print(test_data.mean())"
   ]
  },
  {
   "cell_type": "code",
   "execution_count": 107,
   "metadata": {},
   "outputs": [],
   "source": [
    "n1 = len(clean_user[clean_user['test']==0])\n",
    "n2 = len(clean_user[clean_user['test']==1])\n",
    "s1 = len(clean_user[(clean_user['test']==0) & (clean_user['converted']==1)])\n",
    "s2 = len(clean_user[(clean_user['test']==1) & (clean_user['converted']==1)])"
   ]
  },
  {
   "cell_type": "code",
   "execution_count": 108,
   "metadata": {},
   "outputs": [],
   "source": [
    "zscore, pval = sm.stats.proportions_ztest([s1, s2], [n1, n2], alternative='smaller', value=0)\n"
   ]
  },
  {
   "cell_type": "code",
   "execution_count": 109,
   "metadata": {},
   "outputs": [
    {
     "name": "stdout",
     "output_type": "stream",
     "text": [
      "8.74375299250435\n",
      "1.0\n"
     ]
    }
   ],
   "source": [
    "print(zscore)\n",
    "print(pval)"
   ]
  },
  {
   "cell_type": "markdown",
   "metadata": {},
   "source": [
    "Sold less units statistically, but did the highe price make up for this difference in # sold?"
   ]
  },
  {
   "cell_type": "code",
   "execution_count": 115,
   "metadata": {},
   "outputs": [
    {
     "name": "stdout",
     "output_type": "stream",
     "text": [
      "-237.96694230979944\n",
      "0.0\n"
     ]
    }
   ],
   "source": [
    "#count each dollar as a sample- did the company get that dollar?\n",
    "n1d = len(clean_user[clean_user['test']==0])\n",
    "n2d = len(clean_user[clean_user['test']==1])\n",
    "s1d = len(clean_user[(clean_user['test']==0) & (clean_user['converted']==1)])\n",
    "s2d = 20*len(clean_user[(clean_user['test']==1) & (clean_user['converted']==1)])#count each conversion of $59 as a weight of 20, since it brings in $20 more?? statistically invalid because artificially increasing sample size\n",
    "zscore, pval = sm.stats.proportions_ztest([s1d, s2d], [n1d, n2d], alternative='smaller', value=0)\n",
    "print(zscore)\n",
    "print(pval)"
   ]
  },
  {
   "cell_type": "code",
   "execution_count": null,
   "metadata": {},
   "outputs": [],
   "source": []
  },
  {
   "cell_type": "code",
   "execution_count": 111,
   "metadata": {},
   "outputs": [
    {
     "data": {
      "text/plain": [
       "0.019899563987220825"
      ]
     },
     "execution_count": 111,
     "metadata": {},
     "output_type": "execute_result"
    }
   ],
   "source": [
    "s1d/n1d"
   ]
  },
  {
   "cell_type": "code",
   "execution_count": 171,
   "metadata": {},
   "outputs": [],
   "source": [
    "#try mann-whitney test on revenue\n",
    "#no- makes no sense- since revenue for test group HAS to be higher than control group if it isn't 0. \n",
    "#Would work if shopping cart total was continuous- not 0 or 59/39"
   ]
  },
  {
   "cell_type": "code",
   "execution_count": 182,
   "metadata": {},
   "outputs": [
    {
     "data": {
      "text/plain": [
       "0.917747853719342"
      ]
     },
     "execution_count": 182,
     "metadata": {},
     "output_type": "execute_result"
    }
   ],
   "source": []
  },
  {
   "cell_type": "markdown",
   "metadata": {},
   "source": [
    "### Other findings looking at data"
   ]
  },
  {
   "cell_type": "code",
   "execution_count": 113,
   "metadata": {},
   "outputs": [
    {
     "data": {
      "text/plain": [
       "source\n",
       "ads-bing           0.012147\n",
       "ads-google         0.021975\n",
       "ads-yahoo          0.015015\n",
       "ads_facebook       0.021657\n",
       "ads_other          0.014559\n",
       "direct_traffic     0.012447\n",
       "friend_referral    0.040245\n",
       "seo-bing           0.024367\n",
       "seo-google         0.017271\n",
       "seo-other          0.015936\n",
       "seo-yahoo          0.016493\n",
       "seo_facebook       0.016312\n",
       "dtype: float64"
      ]
     },
     "execution_count": 113,
     "metadata": {},
     "output_type": "execute_result"
    }
   ],
   "source": [
    "#groupby: conversions by device, by source\n",
    "converted_source_tab = pd.crosstab(index=clean_user['converted'],columns=clean_user['source'])\n",
    "converted_source_tab.iloc[1]/converted_source_tab.iloc[0]"
   ]
  },
  {
   "cell_type": "markdown",
   "metadata": {},
   "source": [
    "Referral from a friend has much higher conversion rate"
   ]
  },
  {
   "cell_type": "code",
   "execution_count": 114,
   "metadata": {},
   "outputs": [
    {
     "data": {
      "text/plain": [
       "device\n",
       "mobile    0.018905\n",
       "web       0.018354\n",
       "dtype: float64"
      ]
     },
     "execution_count": 114,
     "metadata": {},
     "output_type": "execute_result"
    }
   ],
   "source": [
    "converted_device_tab = pd.crosstab(index=clean_user['converted'],columns=clean_user['device'])\n",
    "converted_device_tab.iloc[1]/converted_device_tab.iloc[0]"
   ]
  },
  {
   "cell_type": "markdown",
   "metadata": {},
   "source": [
    "No difference in mobile and web users"
   ]
  },
  {
   "cell_type": "code",
   "execution_count": 169,
   "metadata": {},
   "outputs": [
    {
     "name": "stdout",
     "output_type": "stream",
     "text": [
      "timestamp         3.0    4.0    5.0\n",
      "converted test                     \n",
      "0         0     60968  62125  68875\n",
      "          1     34617  34739  39236\n",
      "1         0      1223   1291   1387\n",
      "          1       569    524    621\n",
      "timestamp\n",
      "3.0    0.567790\n",
      "4.0    0.559179\n",
      "5.0    0.569670\n",
      "dtype: float64\n",
      "timestamp\n",
      "3.0    0.465249\n",
      "4.0    0.405887\n",
      "5.0    0.447729\n",
      "dtype: float64\n"
     ]
    }
   ],
   "source": [
    "converted_month_test = pd.crosstab(index=[clean_user['converted'],clean_user['test']],columns=clean_user['timestamp'].dt.month)\n",
    "print(converted_month_test)\n",
    "print(converted_month_test.iloc[1]/converted_month_test.iloc[0])\n",
    "print(converted_month_test.iloc[3]/converted_month_test.iloc[2])"
   ]
  },
  {
   "cell_type": "markdown",
   "metadata": {},
   "source": [
    "No difference between months"
   ]
  },
  {
   "cell_type": "code",
   "execution_count": null,
   "metadata": {},
   "outputs": [],
   "source": []
  },
  {
   "cell_type": "markdown",
   "metadata": {},
   "source": [
    "### Power analysis- how long did we need to run the test for?"
   ]
  },
  {
   "cell_type": "code",
   "execution_count": 188,
   "metadata": {},
   "outputs": [
    {
     "data": {
      "text/plain": [
       "878.5396182469023"
      ]
     },
     "execution_count": 188,
     "metadata": {},
     "output_type": "execute_result"
    }
   ],
   "source": [
    "sm.stats.tt_ind_solve_power(effect_size = 0.15, alpha=.05, power=0.8, ratio=0.66)"
   ]
  },
  {
   "cell_type": "markdown",
   "metadata": {},
   "source": [
    "We needed to gather 888 samples in the control group to get the same conclusion given a significance level of 0.05 and P(correctly rejecting the null) = 0.8. If we want to be super-duper sure before raising the value,, we can repeat this with a smaller significance level and higher power."
   ]
  },
  {
   "cell_type": "code",
   "execution_count": 190,
   "metadata": {},
   "outputs": [
    {
     "data": {
      "text/plain": [
       "3529.9844288995077"
      ]
     },
     "execution_count": 190,
     "metadata": {},
     "output_type": "execute_result"
    }
   ],
   "source": [
    "sm.stats.tt_ind_solve_power(effect_size = 0.15, alpha=.001, power=0.99, ratio=0.66)"
   ]
  },
  {
   "cell_type": "markdown",
   "metadata": {},
   "source": [
    "We still only needed 3,530 samples in the control group to get the same result. "
   ]
  },
  {
   "cell_type": "code",
   "execution_count": 200,
   "metadata": {},
   "outputs": [
    {
     "ename": "AttributeError",
     "evalue": "'Series' object has no attribute 'sort'",
     "output_type": "error",
     "traceback": [
      "\u001b[0;31m---------------------------------------------------------------------------\u001b[0m",
      "\u001b[0;31mAttributeError\u001b[0m                            Traceback (most recent call last)",
      "\u001b[0;32m<ipython-input-200-0fc4c5d95080>\u001b[0m in \u001b[0;36m<module>\u001b[0;34m()\u001b[0m\n\u001b[1;32m      2\u001b[0m \u001b[0;34m\u001b[0m\u001b[0m\n\u001b[1;32m      3\u001b[0m \u001b[0mcontrol_group\u001b[0m \u001b[0;34m=\u001b[0m \u001b[0mclean_user\u001b[0m\u001b[0;34m[\u001b[0m\u001b[0mclean_user\u001b[0m\u001b[0;34m[\u001b[0m\u001b[0;34m'test'\u001b[0m\u001b[0;34m]\u001b[0m\u001b[0;34m==\u001b[0m\u001b[0;36m0\u001b[0m\u001b[0;34m]\u001b[0m\u001b[0;34m\u001b[0m\u001b[0m\n\u001b[0;32m----> 4\u001b[0;31m \u001b[0mcontrol_group\u001b[0m\u001b[0;34m[\u001b[0m\u001b[0;34m'timestamp'\u001b[0m\u001b[0;34m]\u001b[0m\u001b[0;34m.\u001b[0m\u001b[0msort\u001b[0m\u001b[0;34m(\u001b[0m\u001b[0;34m)\u001b[0m\u001b[0;34m\u001b[0m\u001b[0m\n\u001b[0m",
      "\u001b[0;32m~/anaconda3/lib/python3.6/site-packages/pandas/core/generic.py\u001b[0m in \u001b[0;36m__getattr__\u001b[0;34m(self, name)\u001b[0m\n\u001b[1;32m   3612\u001b[0m             \u001b[0;32mif\u001b[0m \u001b[0mname\u001b[0m \u001b[0;32min\u001b[0m \u001b[0mself\u001b[0m\u001b[0;34m.\u001b[0m\u001b[0m_info_axis\u001b[0m\u001b[0;34m:\u001b[0m\u001b[0;34m\u001b[0m\u001b[0m\n\u001b[1;32m   3613\u001b[0m                 \u001b[0;32mreturn\u001b[0m \u001b[0mself\u001b[0m\u001b[0;34m[\u001b[0m\u001b[0mname\u001b[0m\u001b[0;34m]\u001b[0m\u001b[0;34m\u001b[0m\u001b[0m\n\u001b[0;32m-> 3614\u001b[0;31m             \u001b[0;32mreturn\u001b[0m \u001b[0mobject\u001b[0m\u001b[0;34m.\u001b[0m\u001b[0m__getattribute__\u001b[0m\u001b[0;34m(\u001b[0m\u001b[0mself\u001b[0m\u001b[0;34m,\u001b[0m \u001b[0mname\u001b[0m\u001b[0;34m)\u001b[0m\u001b[0;34m\u001b[0m\u001b[0m\n\u001b[0m\u001b[1;32m   3615\u001b[0m \u001b[0;34m\u001b[0m\u001b[0m\n\u001b[1;32m   3616\u001b[0m     \u001b[0;32mdef\u001b[0m \u001b[0m__setattr__\u001b[0m\u001b[0;34m(\u001b[0m\u001b[0mself\u001b[0m\u001b[0;34m,\u001b[0m \u001b[0mname\u001b[0m\u001b[0;34m,\u001b[0m \u001b[0mvalue\u001b[0m\u001b[0;34m)\u001b[0m\u001b[0;34m:\u001b[0m\u001b[0;34m\u001b[0m\u001b[0m\n",
      "\u001b[0;31mAttributeError\u001b[0m: 'Series' object has no attribute 'sort'"
     ]
    }
   ],
   "source": [
    "#how long does it take to get this many samples?\n",
    "\n",
    "control_group = clean_user[clean_user['test']==0]\n",
    "control_group['timestamp'].sort()"
   ]
  },
  {
   "cell_type": "code",
   "execution_count": 193,
   "metadata": {},
   "outputs": [
    {
     "data": {
      "text/plain": [
       "(316435, 8)"
      ]
     },
     "execution_count": 193,
     "metadata": {},
     "output_type": "execute_result"
    }
   ],
   "source": [
    "clean_user.shape"
   ]
  },
  {
   "cell_type": "code",
   "execution_count": 198,
   "metadata": {},
   "outputs": [
    {
     "data": {
      "text/plain": [
       "Index(['user_id', 'timestamp', 'source', 'device', 'operative_system', 'test',\n",
       "       'price', 'converted'],\n",
       "      dtype='object')"
      ]
     },
     "execution_count": 198,
     "metadata": {},
     "output_type": "execute_result"
    }
   ],
   "source": [
    "control_group.columns"
   ]
  },
  {
   "cell_type": "code",
   "execution_count": null,
   "metadata": {},
   "outputs": [],
   "source": []
  }
 ],
 "metadata": {
  "kernelspec": {
   "display_name": "Python 3",
   "language": "python",
   "name": "python3"
  },
  "language_info": {
   "codemirror_mode": {
    "name": "ipython",
    "version": 3
   },
   "file_extension": ".py",
   "mimetype": "text/x-python",
   "name": "python",
   "nbconvert_exporter": "python",
   "pygments_lexer": "ipython3",
   "version": "3.6.4"
  }
 },
 "nbformat": 4,
 "nbformat_minor": 2
}
