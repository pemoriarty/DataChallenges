{
 "cells": [
  {
   "cell_type": "markdown",
   "metadata": {},
   "source": [
    "### Yammer User Engagement\n",
    "#### Goal: Determine the cause of the drop in user engagement\n",
    "##### Chart shows drop in weekly active users beginning week of Aug. 1- why did this occur?\n",
    "#### Potential reasons:\n",
    "##### 1. Certain companies stopped using Yammer\n",
    "#####     -  test by: if number of active accounts decreased, was this only in certain companies?\n",
    "##### 2. Engagement in certain products was reduced\n",
    "#####    -  Did uses of just certain products go down?\n",
    "##### 3.  Reduction in retention\n",
    "#####    -  test by: did number of active acounts decrease?\n",
    "\n",
    "\n",
    "#### Questions to answer:\n",
    "##### - Do the answers to any of your original hypotheses lead you to further questions?\n",
    "##### - If so, what are they and how will you test them?\n",
    "##### - If they are questions that you can’t answer using data alone, how would you go about answering them (hypothetically, assuming you actually worked at this company)?\n",
    "##### - What seems like the most likely cause of the engagement dip?\n",
    "##### - What, if anything, should the company do in response?"
   ]
  },
  {
   "cell_type": "markdown",
   "metadata": {},
   "source": [
    "### Plan of attack:\n",
    "#### - exploratory data analysis:\n",
    "####     -  plot time series of number of active accounts\n",
    "####     -  plot time series of each type of event (event_name)"
   ]
  },
  {
   "cell_type": "code",
   "execution_count": 1,
   "metadata": {},
   "outputs": [],
   "source": [
    "import pandas as pd\n",
    "import numpy as np\n",
    "import matplotlib.pyplot as plt\n",
    "import seaborn as sns\n",
    "\n",
    "%matplotlib inline"
   ]
  },
  {
   "cell_type": "code",
   "execution_count": 2,
   "metadata": {},
   "outputs": [],
   "source": [
    "##Data files:\n",
    "file_name_users = 'data/yammer_users.csv'\n",
    "file_name_events = 'data/yammer_events.csv'\n",
    "file_name_emails = 'data/yammer_emails.csv'"
   ]
  },
  {
   "cell_type": "code",
   "execution_count": null,
   "metadata": {},
   "outputs": [],
   "source": [
    "#read in data\n",
    "users_data = read_csv()"
   ]
  }
 ],
 "metadata": {
  "kernelspec": {
   "display_name": "Python 3",
   "language": "python",
   "name": "python3"
  },
  "language_info": {
   "codemirror_mode": {
    "name": "ipython",
    "version": 3
   },
   "file_extension": ".py",
   "mimetype": "text/x-python",
   "name": "python",
   "nbconvert_exporter": "python",
   "pygments_lexer": "ipython3",
   "version": "3.6.4"
  }
 },
 "nbformat": 4,
 "nbformat_minor": 2
}
